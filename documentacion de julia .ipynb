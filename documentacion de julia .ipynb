{
 "cells": [
  {
   "cell_type": "markdown",
   "id": "738212fb-85fb-4343-98c4-1b470fd8c2fd",
   "metadata": {},
   "source": [
    "# Declaración de variables\n",
    "julia posee una inicialización de variables dinámica,eso significa que para declarar y dar valores a una variable, es suficiente con escribir el nombre que desea darle a la variable e igualarlo a un valor deseado. "
   ]
  },
  {
   "cell_type": "code",
   "execution_count": 3,
   "id": "834db1c3-8240-4a85-8f94-6abd3233c64d",
   "metadata": {},
   "outputs": [
    {
     "name": "stdout",
     "output_type": "stream",
     "text": [
      "10\n"
     ]
    }
   ],
   "source": [
    "# Declaración de variables\n",
    "edad = 18          # Variable entera\n",
    "altura = 1.80       # Variable de punto flotante\n",
    "nombre = \"luis\"  # Variable de cadena"
   ]
  },
  {
   "cell_type": "markdown",
   "id": "0238d597-e594-415f-b4c3-38762374b0f9",
   "metadata": {},
   "source": [
    "# Salida de información por consola\n",
    "Para imprimir información por consola, solo se tiene que escribir print() para imprimir sin salto de línea y println() para que sí tenga salto de línea, dentro de los paréntesis se colocará el nombre de la variable o dato que se desea imprimir."
   ]
  },
  {
   "cell_type": "code",
   "execution_count": 9,
   "id": "f586a31d-af11-4029-81da-1c11b0e87ef1",
   "metadata": {},
   "outputs": [
    {
     "name": "stdout",
     "output_type": "stream",
     "text": [
      "Luis Yepez\n",
      "Su altura es 1.8\n",
      "Su edad es 18\n"
     ]
    }
   ],
   "source": [
    "edad = 18        \n",
    "altura = 1.80      \n",
    "nombre = \"Luis\"\n",
    "apellido =\" Yepez\"\n",
    "\n",
    "print(nombre)\n",
    "println(apellido)\n",
    "\n",
    "print(\"Su altura es \")\n",
    "println(altura)\n",
    "\n",
    "print(\"Su edad es \")\n",
    "println(edad)"
   ]
  },
  {
   "cell_type": "markdown",
   "id": "4fcdfbd9-00c1-484b-8919-8cb175cf72f4",
   "metadata": {},
   "source": [
    "# Operaciones Aritméticas"
   ]
  },
  {
   "cell_type": "code",
   "execution_count": 11,
   "id": "1039e609-6342-4c4d-a0e6-0654902d8120",
   "metadata": {},
   "outputs": [
    {
     "name": "stdout",
     "output_type": "stream",
     "text": [
      "Operaciones Aritméticas\n",
      "Suma\n",
      "15\n",
      "Resta\n",
      "5\n",
      "Multiplicación\n",
      "50\n",
      "División\n",
      "2.0\n",
      "Módulo\n",
      "0\n",
      "Operaciones Comparativas\n",
      "Igual a\n",
      "false\n",
      "Mayor que\n",
      "true\n",
      "Operaciones Lógicas\n",
      "Y lógico\n",
      "false\n",
      "O lógico\n",
      "true\n"
     ]
    }
   ],
   "source": [
    "a = 10\n",
    "b = 5\n",
    "println(\"Operaciones Aritméticas\")\n",
    "println(\"Suma\")\n",
    "println( a + b)          \n",
    "println(\"Resta\")\n",
    "println( a - b)       \n",
    "println(\"Multiplicación\")\n",
    "println( a * b) \n",
    "println(\"División\")\n",
    "println( a / b)     \n",
    "println(\"Módulo\")\n",
    "println( a % b)         "
   ]
  },
  {
   "cell_type": "markdown",
   "id": "bab1abb2-8b6e-47f8-a8a3-9ec0575dde37",
   "metadata": {},
   "source": [
    "# Operaciones Comparativas"
   ]
  },
  {
   "cell_type": "code",
   "execution_count": 17,
   "id": "5dc13a53-0322-4612-867b-b5978b9ad881",
   "metadata": {},
   "outputs": [
    {
     "name": "stdout",
     "output_type": "stream",
     "text": [
      "Operaciones Comparativas\n",
      "Igual a\n",
      "false\n",
      "Mayor que\n",
      "true\n"
     ]
    }
   ],
   "source": [
    "println(\"Operaciones Comparativas\")\n",
    "println(\"Igual a\")\n",
    "println( a == b)      \n",
    "println(\"Mayor que\")\n",
    "println( a > b)    "
   ]
  },
  {
   "cell_type": "markdown",
   "id": "ca6f4fb0-1dd9-4d1d-ad16-e0c1402f96dd",
   "metadata": {},
   "source": [
    "# Operaciones Lógicas"
   ]
  },
  {
   "cell_type": "code",
   "execution_count": null,
   "id": "64597aa6-7a52-4211-95f8-680e3014f207",
   "metadata": {},
   "outputs": [],
   "source": [
    "println(\"Operaciones Lógicas\")\n",
    "x = true\n",
    "y = false\n",
    "println(\"Y lógico\")\n",
    "println( x && y)     \n",
    "println(\"O lógico\")\n",
    "println( x || y)"
   ]
  },
  {
   "cell_type": "markdown",
   "id": "2b3a9d47-0ae9-4b6f-8618-67f748164e2e",
   "metadata": {},
   "source": [
    "# Condicionales\n",
    "Para usar condicionales en julia, solo tienes que escribir la palabra reservada if y junto a ella escribir la condición que deseas aplicar al bloque de código que esté por debajo del if. Si deseas realizar varias condiciones, se utiliza la palabra reservada elseif junto con la condición. Si ninguna de las condiciones se cumplió, se puede utilizar la palabra else en el caso de que ninguna se cumpla y al final se usa la palabra reservada end para decir que ya no hay más condiciones. "
   ]
  },
  {
   "cell_type": "code",
   "execution_count": 30,
   "id": "ee72f744-e88a-4f62-89b4-07df0c797f56",
   "metadata": {},
   "outputs": [
    {
     "name": "stdout",
     "output_type": "stream",
     "text": [
      "x es positivo\n"
     ]
    }
   ],
   "source": [
    "x = 5\n",
    "\n",
    "if x > 0\n",
    "    println(\"x es positivo\")\n",
    "elseif x < 0\n",
    "    println(\"x es negativo\")\n",
    "else\n",
    "    println(\"x es cero\")\n",
    "end\n",
    "\n"
   ]
  },
  {
   "cell_type": "markdown",
   "id": "aed6b5ef-c06c-4598-a86f-b81ad3172495",
   "metadata": {},
   "source": [
    "# Bucle for\n",
    "Los pasos para realizar un bucle for son:\n",
    "- Escribir la palabra reservada for\n",
    "- Colocar el nombre de la variable que guardará los valores recorridos durante el bucle.\n",
    "- Usar la palabra in para decir que será lo que recorra el bucle.\n",
    "- Decir que recorrerá el bucle, en este caso recorrerá desde 1 hasta 10.\n",
    "- Escribir end para cerrar el bloque de lo que se ejecutará dentro del bucle. "
   ]
  },
  {
   "cell_type": "code",
   "execution_count": 32,
   "id": "445cb951-b4a9-486d-ba7b-89257600a54b",
   "metadata": {},
   "outputs": [
    {
     "name": "stdout",
     "output_type": "stream",
     "text": [
      "1\n",
      "2\n",
      "3\n",
      "4\n",
      "5\n",
      "6\n",
      "7\n",
      "8\n",
      "9\n",
      "10\n"
     ]
    }
   ],
   "source": [
    "for i in 1:10\n",
    "    println(i)\n",
    "end"
   ]
  },
  {
   "cell_type": "markdown",
   "id": "c5b91063-4963-4fbb-ba37-6ce98291e8d2",
   "metadata": {},
   "source": [
    "# Bucle while\n",
    "Los pasos para realizar un bucle while son:\n",
    "- Escribir la palabra reservada while\n",
    "- colocar la condicion que se tine que cumplir para que el bucle se ejecute\n",
    "- Escribir end para cerrar el bloque de lo que se ejecutará dentro del bucle. "
   ]
  },
  {
   "cell_type": "code",
   "execution_count": 33,
   "id": "86bfcf03-2c06-44a4-a362-bf7f93eae119",
   "metadata": {},
   "outputs": [
    {
     "name": "stdout",
     "output_type": "stream",
     "text": [
      "1\n",
      "2\n",
      "3\n",
      "4\n",
      "5\n",
      "6\n",
      "7\n",
      "8\n",
      "9\n",
      "10\n"
     ]
    }
   ],
   "source": [
    "contador = 1\n",
    "\n",
    "while contador <= 10\n",
    "    println(contador)\n",
    "    contador += 1  \n",
    "end\n"
   ]
  },
  {
   "cell_type": "markdown",
   "id": "18ee9ef9-9269-42e2-beb2-357cacf3229d",
   "metadata": {},
   "source": [
    "# Funciones\n",
    "Los pasos para realizar una función son:\n",
    "- Escribir la palabra reservada function.\n",
    "- Escribir el nombre que le quieras dar a la función.\n",
    "- Colocar un par de paréntesis y escribir los parámetros de la función.\n",
    "- Escribir la palabra reservada return para decir qué valores se retornarán cuando se llame la función.\n",
    "- Escribir end para cerrar el bloque de lo que se ejecutará dentro de la función.\n",
    "- También posee una sintaxis corta, escribiendo el nombre de la función igualado con la operación que realizará y retornará."
   ]
  },
  {
   "cell_type": "code",
   "execution_count": 35,
   "id": "abb47bf1-6d16-45f6-8a47-07b68e1b340a",
   "metadata": {},
   "outputs": [
    {
     "data": {
      "text/plain": [
       "multiplicar (generic function with 1 method)"
      ]
     },
     "execution_count": 35,
     "metadata": {},
     "output_type": "execute_result"
    }
   ],
   "source": [
    "function suma(a, b)\n",
    "    return a + b\n",
    "end\n",
    "\n",
    "multiplicar(a, b) = a * b"
   ]
  },
  {
   "cell_type": "markdown",
   "id": "7a4cc9a9-cb52-417c-bb7b-7684aaa76cb0",
   "metadata": {},
   "source": [
    "# Llamar funsiones\n",
    "Solo se escribe el nombre de la función y se le colocan los valores con los que se quiere trabajar en la función."
   ]
  },
  {
   "cell_type": "code",
   "execution_count": 37,
   "id": "584675ef-be81-412f-8adf-380c332af388",
   "metadata": {},
   "outputs": [
    {
     "name": "stdout",
     "output_type": "stream",
     "text": [
      "7\n",
      "12\n"
     ]
    }
   ],
   "source": [
    "resultado = suma(3, 4)\n",
    "println(resultado)\n",
    "\n",
    "resultado_multiplicacion = multiplicar(3, 4)\n",
    "println(resultado_multiplicacion)"
   ]
  }
 ],
 "metadata": {
  "kernelspec": {
   "display_name": "Julia 1.11.3",
   "language": "julia",
   "name": "julia-1.11"
  },
  "language_info": {
   "file_extension": ".jl",
   "mimetype": "application/julia",
   "name": "julia",
   "version": "1.11.3"
  }
 },
 "nbformat": 4,
 "nbformat_minor": 5
}
