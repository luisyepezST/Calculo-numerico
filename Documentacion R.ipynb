{
 "cells": [
  {
   "cell_type": "markdown",
   "id": "02ca37a0-2270-40f8-8864-10e810cd5b0a",
   "metadata": {},
   "source": [
    "# Tipos de variables\n",
    "* Numericas\n",
    "* Enteras\n",
    "* Caracteres\n",
    "* Logicos\n",
    "* Complejos\n",
    "Para declarar una variable basta con escribir el nombre que le queramos dar , después se escribe <- o = para decir que lo que coloquemos a la derecha de esta expresión será el valor "
   ]
  },
  {
   "cell_type": "code",
   "execution_count": 4,
   "id": "5fa7e918-253a-48a2-ba4c-1713c79c1d93",
   "metadata": {},
   "outputs": [],
   "source": [
    "#Numericos\n",
    "altura <- 1.78\n",
    "#Enteros\n",
    "edad = 18\n",
    "#Caracteres\n",
    "nombre <- \"Luis\"\n",
    "#Logicos\n",
    "bandera = TRUE\n",
    "#Complejos\n",
    "b <- 1 + 2i"
   ]
  },
  {
   "cell_type": "markdown",
   "id": "670da94f-9d5e-4e3d-a4de-cefcc08d9d54",
   "metadata": {},
   "source": [
    "# Operaciones Matemáticas Básicas"
   ]
  },
  {
   "cell_type": "code",
   "execution_count": 5,
   "id": "ce12d0ea-5dd8-42b5-bb5e-f0b1278c3659",
   "metadata": {},
   "outputs": [
    {
     "name": "stdout",
     "output_type": "stream",
     "text": [
      "[1] 13\n",
      "[1] 7\n",
      "[1] 30\n",
      "[1] 3.333333\n",
      "[1] 1000\n",
      "[1] 1\n",
      "[1] 3\n"
     ]
    }
   ],
   "source": [
    "a <- 10\n",
    "b <- 3\n",
    "suma <- a + b\n",
    "print(suma)\n",
    "resta <- a - b\n",
    "print(resta)\n",
    "multiplicacion <- a * b\n",
    "print(multiplicacion)\n",
    "division <- a / b\n",
    "print(division)\n",
    "potencia <- a^b\n",
    "print(potencia)\n",
    "modulo <- a %% b\n",
    "print(modulo)\n",
    "division_entera <- a %/% b\n",
    "print(division_entera)"
   ]
  },
  {
   "cell_type": "markdown",
   "id": "6c04571c-9345-4ede-885d-c5f528e5bd4a",
   "metadata": {},
   "source": [
    "# Operaciones con Vectores\n",
    "Para crear un vector basta con colocar c() y dentro de los paréntesis los valores que le quieras asignar a cada campo"
   ]
  },
  {
   "cell_type": "code",
   "execution_count": 12,
   "id": "c7985f14-fa91-4056-8390-da1042641964",
   "metadata": {},
   "outputs": [
    {
     "data": {
      "text/html": [
       "<style>\n",
       ".list-inline {list-style: none; margin:0; padding: 0}\n",
       ".list-inline>li {display: inline-block}\n",
       ".list-inline>li:not(:last-child)::after {content: \"\\00b7\"; padding: 0 .5ex}\n",
       "</style>\n",
       "<ol class=list-inline><li>1</li><li>2</li><li>3</li></ol>\n"
      ],
      "text/latex": [
       "\\begin{enumerate*}\n",
       "\\item 1\n",
       "\\item 2\n",
       "\\item 3\n",
       "\\end{enumerate*}\n"
      ],
      "text/markdown": [
       "1. 1\n",
       "2. 2\n",
       "3. 3\n",
       "\n",
       "\n"
      ],
      "text/plain": [
       "[1] 1 2 3"
      ]
     },
     "metadata": {},
     "output_type": "display_data"
    },
    {
     "data": {
      "text/html": [
       "<style>\n",
       ".list-inline {list-style: none; margin:0; padding: 0}\n",
       ".list-inline>li {display: inline-block}\n",
       ".list-inline>li:not(:last-child)::after {content: \"\\00b7\"; padding: 0 .5ex}\n",
       "</style>\n",
       "<ol class=list-inline><li>4</li><li>5</li><li>6</li></ol>\n"
      ],
      "text/latex": [
       "\\begin{enumerate*}\n",
       "\\item 4\n",
       "\\item 5\n",
       "\\item 6\n",
       "\\end{enumerate*}\n"
      ],
      "text/markdown": [
       "1. 4\n",
       "2. 5\n",
       "3. 6\n",
       "\n",
       "\n"
      ],
      "text/plain": [
       "[1] 4 5 6"
      ]
     },
     "metadata": {},
     "output_type": "display_data"
    },
    {
     "data": {
      "text/html": [
       "<style>\n",
       ".list-inline {list-style: none; margin:0; padding: 0}\n",
       ".list-inline>li {display: inline-block}\n",
       ".list-inline>li:not(:last-child)::after {content: \"\\00b7\"; padding: 0 .5ex}\n",
       "</style>\n",
       "<ol class=list-inline><li>5</li><li>7</li><li>9</li></ol>\n"
      ],
      "text/latex": [
       "\\begin{enumerate*}\n",
       "\\item 5\n",
       "\\item 7\n",
       "\\item 9\n",
       "\\end{enumerate*}\n"
      ],
      "text/markdown": [
       "1. 5\n",
       "2. 7\n",
       "3. 9\n",
       "\n",
       "\n"
      ],
      "text/plain": [
       "[1] 5 7 9"
      ]
     },
     "metadata": {},
     "output_type": "display_data"
    },
    {
     "data": {
      "text/html": [
       "<style>\n",
       ".list-inline {list-style: none; margin:0; padding: 0}\n",
       ".list-inline>li {display: inline-block}\n",
       ".list-inline>li:not(:last-child)::after {content: \"\\00b7\"; padding: 0 .5ex}\n",
       "</style>\n",
       "<ol class=list-inline><li>4</li><li>10</li><li>18</li></ol>\n"
      ],
      "text/latex": [
       "\\begin{enumerate*}\n",
       "\\item 4\n",
       "\\item 10\n",
       "\\item 18\n",
       "\\end{enumerate*}\n"
      ],
      "text/markdown": [
       "1. 4\n",
       "2. 10\n",
       "3. 18\n",
       "\n",
       "\n"
      ],
      "text/plain": [
       "[1]  4 10 18"
      ]
     },
     "metadata": {},
     "output_type": "display_data"
    },
    {
     "data": {
      "text/html": [
       "<style>\n",
       ".list-inline {list-style: none; margin:0; padding: 0}\n",
       ".list-inline>li {display: inline-block}\n",
       ".list-inline>li:not(:last-child)::after {content: \"\\00b7\"; padding: 0 .5ex}\n",
       "</style>\n",
       "<ol class=list-inline><li>1</li><li>1.4142135623731</li><li>1.73205080756888</li></ol>\n"
      ],
      "text/latex": [
       "\\begin{enumerate*}\n",
       "\\item 1\n",
       "\\item 1.4142135623731\n",
       "\\item 1.73205080756888\n",
       "\\end{enumerate*}\n"
      ],
      "text/markdown": [
       "1. 1\n",
       "2. 1.4142135623731\n",
       "3. 1.73205080756888\n",
       "\n",
       "\n"
      ],
      "text/plain": [
       "[1] 1.000000 1.414214 1.732051"
      ]
     },
     "metadata": {},
     "output_type": "display_data"
    }
   ],
   "source": [
    "v1 <- c(1, 2, 3)\n",
    "v1\n",
    "v2 <- c(4, 5, 6)\n",
    "v2\n",
    "suma_vector <- v1 + v2\n",
    "suma_vector\n",
    "producto_vector <- v1 * v2\n",
    "producto_vector\n",
    "raiz_cuadrada <- sqrt(v1)\n",
    "raiz_cuadrada"
   ]
  },
  {
   "cell_type": "markdown",
   "id": "f3b8eaf8-a13a-45c6-9f16-1d14c60fd4ea",
   "metadata": {},
   "source": [
    "# Operaciones con Matrices\n",
    "Para crear una matriz basta con colocar matrix(n:n,nrow = 2) y dentro de los paréntesis se coloca la progresión de números que irán en cada campo y, después de la coma, se coloca la cantidad de filas que tendrá "
   ]
  },
  {
   "cell_type": "code",
   "execution_count": 11,
   "id": "7443ac6f-1925-4459-8a88-897c6f596acc",
   "metadata": {},
   "outputs": [
    {
     "name": "stdout",
     "output_type": "stream",
     "text": [
      "[1] \"Matriz A\"\n"
     ]
    },
    {
     "data": {
      "text/html": [
       "<table class=\"dataframe\">\n",
       "<caption>A matrix: 2 × 2 of type int</caption>\n",
       "<tbody>\n",
       "\t<tr><td>1</td><td>3</td></tr>\n",
       "\t<tr><td>2</td><td>4</td></tr>\n",
       "</tbody>\n",
       "</table>\n"
      ],
      "text/latex": [
       "A matrix: 2 × 2 of type int\n",
       "\\begin{tabular}{ll}\n",
       "\t 1 & 3\\\\\n",
       "\t 2 & 4\\\\\n",
       "\\end{tabular}\n"
      ],
      "text/markdown": [
       "\n",
       "A matrix: 2 × 2 of type int\n",
       "\n",
       "| 1 | 3 |\n",
       "| 2 | 4 |\n",
       "\n"
      ],
      "text/plain": [
       "     [,1] [,2]\n",
       "[1,] 1    3   \n",
       "[2,] 2    4   "
      ]
     },
     "metadata": {},
     "output_type": "display_data"
    },
    {
     "name": "stdout",
     "output_type": "stream",
     "text": [
      "[1] \"Matriz B\"\n"
     ]
    },
    {
     "data": {
      "text/html": [
       "<table class=\"dataframe\">\n",
       "<caption>A matrix: 2 × 2 of type int</caption>\n",
       "<tbody>\n",
       "\t<tr><td>5</td><td>7</td></tr>\n",
       "\t<tr><td>6</td><td>8</td></tr>\n",
       "</tbody>\n",
       "</table>\n"
      ],
      "text/latex": [
       "A matrix: 2 × 2 of type int\n",
       "\\begin{tabular}{ll}\n",
       "\t 5 & 7\\\\\n",
       "\t 6 & 8\\\\\n",
       "\\end{tabular}\n"
      ],
      "text/markdown": [
       "\n",
       "A matrix: 2 × 2 of type int\n",
       "\n",
       "| 5 | 7 |\n",
       "| 6 | 8 |\n",
       "\n"
      ],
      "text/plain": [
       "     [,1] [,2]\n",
       "[1,] 5    7   \n",
       "[2,] 6    8   "
      ]
     },
     "metadata": {},
     "output_type": "display_data"
    },
    {
     "name": "stdout",
     "output_type": "stream",
     "text": [
      "[1] \"multiplicacion de matriz A y B\"\n"
     ]
    },
    {
     "data": {
      "text/html": [
       "<table class=\"dataframe\">\n",
       "<caption>A matrix: 2 × 2 of type dbl</caption>\n",
       "<tbody>\n",
       "\t<tr><td>23</td><td>31</td></tr>\n",
       "\t<tr><td>34</td><td>46</td></tr>\n",
       "</tbody>\n",
       "</table>\n"
      ],
      "text/latex": [
       "A matrix: 2 × 2 of type dbl\n",
       "\\begin{tabular}{ll}\n",
       "\t 23 & 31\\\\\n",
       "\t 34 & 46\\\\\n",
       "\\end{tabular}\n"
      ],
      "text/markdown": [
       "\n",
       "A matrix: 2 × 2 of type dbl\n",
       "\n",
       "| 23 | 31 |\n",
       "| 34 | 46 |\n",
       "\n"
      ],
      "text/plain": [
       "     [,1] [,2]\n",
       "[1,] 23   31  \n",
       "[2,] 34   46  "
      ]
     },
     "metadata": {},
     "output_type": "display_data"
    },
    {
     "name": "stdout",
     "output_type": "stream",
     "text": [
      "[1] \"transpuesta de A\"\n"
     ]
    },
    {
     "data": {
      "text/html": [
       "<table class=\"dataframe\">\n",
       "<caption>A matrix: 2 × 2 of type int</caption>\n",
       "<tbody>\n",
       "\t<tr><td>1</td><td>2</td></tr>\n",
       "\t<tr><td>3</td><td>4</td></tr>\n",
       "</tbody>\n",
       "</table>\n"
      ],
      "text/latex": [
       "A matrix: 2 × 2 of type int\n",
       "\\begin{tabular}{ll}\n",
       "\t 1 & 2\\\\\n",
       "\t 3 & 4\\\\\n",
       "\\end{tabular}\n"
      ],
      "text/markdown": [
       "\n",
       "A matrix: 2 × 2 of type int\n",
       "\n",
       "| 1 | 2 |\n",
       "| 3 | 4 |\n",
       "\n"
      ],
      "text/plain": [
       "     [,1] [,2]\n",
       "[1,] 1    2   \n",
       "[2,] 3    4   "
      ]
     },
     "metadata": {},
     "output_type": "display_data"
    },
    {
     "name": "stdout",
     "output_type": "stream",
     "text": [
      "[1] \"inversa de A\"\n"
     ]
    },
    {
     "data": {
      "text/html": [
       "<table class=\"dataframe\">\n",
       "<caption>A matrix: 2 × 2 of type dbl</caption>\n",
       "<tbody>\n",
       "\t<tr><td>-2</td><td> 1.5</td></tr>\n",
       "\t<tr><td> 1</td><td>-0.5</td></tr>\n",
       "</tbody>\n",
       "</table>\n"
      ],
      "text/latex": [
       "A matrix: 2 × 2 of type dbl\n",
       "\\begin{tabular}{ll}\n",
       "\t -2 &  1.5\\\\\n",
       "\t  1 & -0.5\\\\\n",
       "\\end{tabular}\n"
      ],
      "text/markdown": [
       "\n",
       "A matrix: 2 × 2 of type dbl\n",
       "\n",
       "| -2 |  1.5 |\n",
       "|  1 | -0.5 |\n",
       "\n"
      ],
      "text/plain": [
       "     [,1] [,2]\n",
       "[1,] -2    1.5\n",
       "[2,]  1   -0.5"
      ]
     },
     "metadata": {},
     "output_type": "display_data"
    },
    {
     "name": "stdout",
     "output_type": "stream",
     "text": [
      "[1] \"determinante de A\"\n"
     ]
    },
    {
     "data": {
      "text/html": [
       "-2"
      ],
      "text/latex": [
       "-2"
      ],
      "text/markdown": [
       "-2"
      ],
      "text/plain": [
       "[1] -2"
      ]
     },
     "metadata": {},
     "output_type": "display_data"
    }
   ],
   "source": [
    "A <- matrix(1:4, nrow = 2)\n",
    "print(\"Matriz A\")\n",
    "A\n",
    "B <- matrix(5:8, nrow = 2)\n",
    "print(\"Matriz B\")\n",
    "B\n",
    "multiplicacion_matrices <- A %*% B\n",
    "print(\"multiplicacion de matriz A y B\")\n",
    "multiplicacion_matrices\n",
    "transpuesta <- t(A)\n",
    "print(\"transpuesta de A\")\n",
    "transpuesta\n",
    "inversa <- solve(A)\n",
    "print(\"inversa de A\")\n",
    "inversa\n",
    "determinante <- det(A)\n",
    "print(\"determinante de A\")\n",
    "determinante"
   ]
  },
  {
   "cell_type": "markdown",
   "id": "0c4628bc-6e3f-45db-8803-8b1b74bca5f4",
   "metadata": {},
   "source": [
    "# Operaciones con Listas\n",
    "Para crear una lista basta con colocar list() y dentro de los paréntesis los valores que le quieras asignar a cada campo"
   ]
  },
  {
   "cell_type": "code",
   "execution_count": 22,
   "id": "05958e88-9e96-419e-99ba-83bdf7fa251f",
   "metadata": {},
   "outputs": [
    {
     "data": {
      "text/html": [
       "<ol>\n",
       "\t<li>1</li>\n",
       "\t<li>'Hola'</li>\n",
       "\t<li>TRUE</li>\n",
       "</ol>\n"
      ],
      "text/latex": [
       "\\begin{enumerate}\n",
       "\\item 1\n",
       "\\item 'Hola'\n",
       "\\item TRUE\n",
       "\\end{enumerate}\n"
      ],
      "text/markdown": [
       "1. 1\n",
       "2. 'Hola'\n",
       "3. TRUE\n",
       "\n",
       "\n"
      ],
      "text/plain": [
       "[[1]]\n",
       "[1] 1\n",
       "\n",
       "[[2]]\n",
       "[1] \"Hola\"\n",
       "\n",
       "[[3]]\n",
       "[1] TRUE\n"
      ]
     },
     "metadata": {},
     "output_type": "display_data"
    },
    {
     "data": {
      "text/html": [
       "TRUE"
      ],
      "text/latex": [
       "TRUE"
      ],
      "text/markdown": [
       "TRUE"
      ],
      "text/plain": [
       "[1] TRUE"
      ]
     },
     "metadata": {},
     "output_type": "display_data"
    },
    {
     "data": {
      "text/html": [
       "<ol>\n",
       "\t<li>1</li>\n",
       "\t<li>'Hola'</li>\n",
       "\t<li>TRUE</li>\n",
       "\t<li>'Nuevo elemento'</li>\n",
       "</ol>\n"
      ],
      "text/latex": [
       "\\begin{enumerate}\n",
       "\\item 1\n",
       "\\item 'Hola'\n",
       "\\item TRUE\n",
       "\\item 'Nuevo elemento'\n",
       "\\end{enumerate}\n"
      ],
      "text/markdown": [
       "1. 1\n",
       "2. 'Hola'\n",
       "3. TRUE\n",
       "4. 'Nuevo elemento'\n",
       "\n",
       "\n"
      ],
      "text/plain": [
       "[[1]]\n",
       "[1] 1\n",
       "\n",
       "[[2]]\n",
       "[1] \"Hola\"\n",
       "\n",
       "[[3]]\n",
       "[1] TRUE\n",
       "\n",
       "[[4]]\n",
       "[1] \"Nuevo elemento\"\n"
      ]
     },
     "metadata": {},
     "output_type": "display_data"
    }
   ],
   "source": [
    "mi_lista <- list(1, \"Hola\", TRUE)\n",
    "mi_lista\n",
    "elemento <- mi_lista[[3]]\n",
    "elemento\n",
    "mi_lista <- c(mi_lista, \"Nuevo elemento\")\n",
    "mi_lista"
   ]
  },
  {
   "cell_type": "markdown",
   "id": "109d2587-82bd-42b3-a171-ab9b74b437d4",
   "metadata": {},
   "source": [
    "# Bucle for\n",
    "Primero se coloca la palabra reservada for después dentro de los paréntesis se colocará el nombre de la variable la cual se modificará cada iteración y después se usa la palabra in para decir en qué intervalo se ejecutara el bucle, y por último se abren unas llaves para decir que será lo que se ejecutará en cada iteración"
   ]
  },
  {
   "cell_type": "code",
   "execution_count": 24,
   "id": "42a78fad-fa19-45d9-bf88-c1d2efbb04e8",
   "metadata": {},
   "outputs": [
    {
     "name": "stdout",
     "output_type": "stream",
     "text": [
      "[1] 1\n",
      "[1] 2\n",
      "[1] 3\n",
      "[1] 4\n",
      "[1] 5\n"
     ]
    }
   ],
   "source": [
    "for (i in 1:5) {\n",
    "  print(i)\n",
    "}"
   ]
  },
  {
   "cell_type": "markdown",
   "id": "243f4dcf-7333-4843-8963-601401c22173",
   "metadata": {},
   "source": [
    "# Bucle while\n",
    "Primero se coloca la palabra reservada while después dentro de los paréntesis se colocará la condición a cumplir para que se ejecute el ciclo y por último se abren unas llaves para decir que será lo que se ejecutará en cada iteración"
   ]
  },
  {
   "cell_type": "code",
   "execution_count": 25,
   "id": "778fc3ab-b756-42c9-90cb-ea7845aa56e2",
   "metadata": {},
   "outputs": [
    {
     "name": "stdout",
     "output_type": "stream",
     "text": [
      "[1] 1\n",
      "[1] 2\n",
      "[1] 3\n",
      "[1] 4\n",
      "[1] 5\n"
     ]
    }
   ],
   "source": [
    "i <- 1\n",
    "while (i <= 5) {\n",
    "  print(i)\n",
    "  i <- i + 1\n",
    "}"
   ]
  },
  {
   "cell_type": "markdown",
   "id": "3b628369-285c-40be-a46e-bcdf2b6ee69c",
   "metadata": {},
   "source": [
    "# Condiciones\n",
    "Primero se coloca la palabra reservada if después dentro de los paréntesis se colocará la condición a cumplir para que se ejecute un bloque de código en específico y por último se abren unas llaves para decir que será lo que se ejecutará , después de un if se puede colocar un else ,que se ejecutará en el caso de que la condición del if no se cumpla"
   ]
  },
  {
   "cell_type": "code",
   "execution_count": 28,
   "id": "f8b46d22-8c1c-4197-bbb8-7c7a99fc9af7",
   "metadata": {},
   "outputs": [
    {
     "name": "stdout",
     "output_type": "stream",
     "text": [
      "[1] \"es mayor de edad\"\n"
     ]
    }
   ],
   "source": [
    "edad <- 18\n",
    "if (edad >= 18) {\n",
    "  print(\"es mayor de edad\")\n",
    "} else {\n",
    "  print(\"es menor de edad\")\n",
    "}"
   ]
  },
  {
   "cell_type": "markdown",
   "id": "cd03a7d3-9a5d-47ba-905a-c68d329ce10a",
   "metadata": {},
   "source": [
    "# Funciones\n",
    "Para crear una función primero se escribe el nombre que le queremos dar , después se le da el valor la función que deseamos hacer ,se usa la palabra reservada function y se coloca un par de paréntesis , donde dentro de ellos se coloca los valores que entraran como parámetro y se abren llaves para definir que será lo que se ejecute cuando se llame la función, en el caso que deseen retornar un valor se usa la palabra reservada return y se le coloca al lado la variable o el valor que deseamos retornar "
   ]
  },
  {
   "cell_type": "code",
   "execution_count": 13,
   "id": "cb037793-e93f-4796-96b7-670ab3d1c0a5",
   "metadata": {},
   "outputs": [
    {
     "name": "stdout",
     "output_type": "stream",
     "text": [
      "[1] 10\n"
     ]
    }
   ],
   "source": [
    "mi_funcion <- function(a, b) {\n",
    "  return(a + b)\n",
    "}\n",
    "resultado <- mi_funcion(5, 5)\n",
    "print(resultado)  "
   ]
  },
  {
   "cell_type": "markdown",
   "id": "d9f32337-c047-4121-a281-10487d852a9f",
   "metadata": {},
   "source": [
    "# Ejercicio sencillo \n",
    "Calcular la media de un vector de números."
   ]
  },
  {
   "cell_type": "code",
   "execution_count": 2,
   "id": "329097a9-8b08-4090-a420-2b4a07cfcdaf",
   "metadata": {},
   "outputs": [
    {
     "name": "stdout",
     "output_type": "stream",
     "text": [
      "[1] 30\n"
     ]
    }
   ],
   "source": [
    "numeros <- c(10, 20, 30, 40, 50)\n",
    "\n",
    "media <- mean(numeros)\n",
    "\n",
    "print(media)"
   ]
  }
 ],
 "metadata": {
  "kernelspec": {
   "display_name": "R",
   "language": "R",
   "name": "ir"
  },
  "language_info": {
   "codemirror_mode": "r",
   "file_extension": ".r",
   "mimetype": "text/x-r-source",
   "name": "R",
   "pygments_lexer": "r",
   "version": "4.4.2"
  }
 },
 "nbformat": 4,
 "nbformat_minor": 5
}
