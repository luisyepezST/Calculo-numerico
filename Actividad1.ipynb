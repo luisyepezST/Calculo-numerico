{
  "nbformat": 4,
  "nbformat_minor": 0,
  "metadata": {
    "colab": {
      "provenance": [],
      "authorship_tag": "ABX9TyOmgBV70SbBr0I1qo/DXsK/",
      "include_colab_link": true
    },
    "kernelspec": {
      "name": "python3",
      "display_name": "Python 3"
    },
    "language_info": {
      "name": "python"
    }
  },
  "cells": [
    {
      "cell_type": "markdown",
      "metadata": {
        "id": "view-in-github",
        "colab_type": "text"
      },
      "source": [
        "<a href=\"https://colab.research.google.com/github/luisyepezST/Calculo-numerico/blob/main/Actividad1.ipynb\" target=\"_parent\"><img src=\"https://colab.research.google.com/assets/colab-badge.svg\" alt=\"Open In Colab\"/></a>"
      ]
    },
    {
      "cell_type": "markdown",
      "source": [
        "Para mostra por consola utilizamos el paquete fmt que nos permiete manejar la entrada y salida de textos"
      ],
      "metadata": {
        "id": "jl6w5pNc06SQ"
      }
    },
    {
      "cell_type": "code",
      "source": [
        "%%writefile saludo.go\n",
        "package main\n",
        "import \"fmt\"\n",
        "func main(){\n",
        "    fmt.Println(\"hola mundo\")\n",
        "}"
      ],
      "metadata": {
        "colab": {
          "base_uri": "https://localhost:8080/"
        },
        "id": "QDIJaPu30pyA",
        "outputId": "20381fe6-c779-4767-952e-28f4e03d8808"
      },
      "execution_count": 54,
      "outputs": [
        {
          "output_type": "stream",
          "name": "stdout",
          "text": [
            "Writing saludo.go\n"
          ]
        }
      ]
    },
    {
      "cell_type": "code",
      "source": [
        "!go run saludo.go"
      ],
      "metadata": {
        "colab": {
          "base_uri": "https://localhost:8080/"
        },
        "id": "lSXmSeG60uSv",
        "outputId": "bb7e480d-e9b5-40db-e302-ea56d16ab0d1"
      },
      "execution_count": 56,
      "outputs": [
        {
          "output_type": "stream",
          "name": "stdout",
          "text": [
            "hola mundo\n"
          ]
        }
      ]
    },
    {
      "cell_type": "markdown",
      "source": [
        "Para declarar variables usamos la palabra reservada var y luego el nombre de la variable, Se le puede colocar el tipo de dato que es y después darle valor, o puedes darle el valor directamente al declararlo. Se puede usar el := para hacer una asignación corta a una variable"
      ],
      "metadata": {
        "id": "_ciWXL8l4Wzd"
      }
    },
    {
      "cell_type": "code",
      "source": [
        "%%writefile declarar.go\n",
        "package main\n",
        "import \"fmt\"\n",
        "func main(){\n",
        "\n",
        "    var nombre string\n",
        "    nombre=\"luis\"\n",
        "\n",
        "    var edad  int = 18\n",
        "\n",
        "    cedula:=31562660\n",
        "\n",
        "    fmt.Println(nombre)\n",
        "    fmt.Println(edad)\n",
        "    fmt.Println(cedula)\n",
        "}\n"
      ],
      "metadata": {
        "colab": {
          "base_uri": "https://localhost:8080/"
        },
        "id": "Vly_WDE7s_1K",
        "outputId": "39ff94a5-8d05-4f60-8f12-c89103f2a512"
      },
      "execution_count": 63,
      "outputs": [
        {
          "output_type": "stream",
          "name": "stdout",
          "text": [
            "Overwriting declarar.go\n"
          ]
        }
      ]
    },
    {
      "cell_type": "code",
      "source": [
        "!go run declarar.go"
      ],
      "metadata": {
        "colab": {
          "base_uri": "https://localhost:8080/"
        },
        "id": "2RfNHoNaulHT",
        "outputId": "5ba61e0e-399d-467b-bd46-714766ea90a7"
      },
      "execution_count": 64,
      "outputs": [
        {
          "output_type": "stream",
          "name": "stdout",
          "text": [
            "luis\n",
            "18\n",
            "31562660\n"
          ]
        }
      ]
    },
    {
      "cell_type": "markdown",
      "source": [
        "Los bucles se trabajan usando la palabra for , despues inicializando un contador que en este caso es i , luego se le coloca la condición para que el bucle continúe y, por último, cómo incrementará el contador por cada iteración del bucle y abrimos llaves para trabajar dentro del bucle"
      ],
      "metadata": {
        "id": "u-n_cnNl50SO"
      }
    },
    {
      "cell_type": "code",
      "source": [
        "%%writefile bucles.go\n",
        "package main\n",
        "import \"fmt\"\n",
        "func main(){\n",
        "\n",
        "  for i:=0;i<=10;i++{\n",
        "    fmt.Println(i)\n",
        "  }\n",
        "\n",
        "}"
      ],
      "metadata": {
        "colab": {
          "base_uri": "https://localhost:8080/"
        },
        "id": "dMQ4o2f-4eUN",
        "outputId": "059b3d82-ce4f-4dda-d8d7-3aa05fa65891"
      },
      "execution_count": 70,
      "outputs": [
        {
          "output_type": "stream",
          "name": "stdout",
          "text": [
            "Overwriting bucles.go\n"
          ]
        }
      ]
    },
    {
      "cell_type": "code",
      "source": [
        "!go run bucles.go"
      ],
      "metadata": {
        "colab": {
          "base_uri": "https://localhost:8080/"
        },
        "id": "0o1Nbehf5p0U",
        "outputId": "24dd63e1-fa01-4937-d74a-533562fe8b0f"
      },
      "execution_count": 71,
      "outputs": [
        {
          "output_type": "stream",
          "name": "stdout",
          "text": [
            "0\n",
            "1\n",
            "2\n",
            "3\n",
            "4\n",
            "5\n",
            "6\n",
            "7\n",
            "8\n",
            "9\n",
            "10\n"
          ]
        }
      ]
    },
    {
      "cell_type": "markdown",
      "source": [
        "Tambien se puede realizar el bucle de una manera mas procedimental asi"
      ],
      "metadata": {
        "id": "xbhXzoSv-ku7"
      }
    },
    {
      "cell_type": "code",
      "source": [
        "%%writefile bucles2.go\n",
        "package main\n",
        "import \"fmt\"\n",
        "func main(){\n",
        "  i:=0\n",
        "  for i<=10{\n",
        "    fmt.Println(i)\n",
        "    i++\n",
        "  }\n",
        "\n",
        "}"
      ],
      "metadata": {
        "colab": {
          "base_uri": "https://localhost:8080/"
        },
        "id": "V4fdUCwl98Lj",
        "outputId": "543374e9-6065-4c40-b65f-ed88e9ae364f"
      },
      "execution_count": 77,
      "outputs": [
        {
          "output_type": "stream",
          "name": "stdout",
          "text": [
            "Overwriting bucles2.go\n"
          ]
        }
      ]
    },
    {
      "cell_type": "code",
      "source": [
        "!go run bucles2.go"
      ],
      "metadata": {
        "colab": {
          "base_uri": "https://localhost:8080/"
        },
        "id": "QeiGKGjU-UCi",
        "outputId": "e18d205e-4aad-44bc-cdb0-228cb7f67d3c"
      },
      "execution_count": 78,
      "outputs": [
        {
          "output_type": "stream",
          "name": "stdout",
          "text": [
            "0\n",
            "1\n",
            "2\n",
            "3\n",
            "4\n",
            "5\n",
            "6\n",
            "7\n",
            "8\n",
            "9\n",
            "10\n"
          ]
        }
      ]
    },
    {
      "cell_type": "markdown",
      "source": [
        "Para usar condicionales primero escribimos la palabra reservada if y después colocamos la condición que se tienen que cumplir para que se ejecute el código que está dentro de las llaves. Si no se cumple la condición, se ejecutará lo que esté dentro de las llaves después del else"
      ],
      "metadata": {
        "id": "pSQY2at4Aory"
      }
    },
    {
      "cell_type": "code",
      "source": [
        "%%writefile condicional.go\n",
        "package main\n",
        "import \"fmt\"\n",
        "func main(){\n",
        "\n",
        "    edad:=18\n",
        "    if edad>=18{\n",
        "      fmt.Println(\"es mayor de edad\")\n",
        "    }else{\n",
        "      fmt.Println(\"es menor de edad\")\n",
        "    }\n",
        "\n",
        "}"
      ],
      "metadata": {
        "colab": {
          "base_uri": "https://localhost:8080/"
        },
        "id": "vAU_beXp_YS0",
        "outputId": "da247331-3db8-45b9-9070-1ccba9d06ce8"
      },
      "execution_count": 85,
      "outputs": [
        {
          "output_type": "stream",
          "name": "stdout",
          "text": [
            "Overwriting condicional.go\n"
          ]
        }
      ]
    },
    {
      "cell_type": "code",
      "source": [
        "!go run condicional.go"
      ],
      "metadata": {
        "colab": {
          "base_uri": "https://localhost:8080/"
        },
        "id": "D6Q0P6QUAPju",
        "outputId": "8595aa5c-1321-48bf-8c86-19bd142090d4"
      },
      "execution_count": 86,
      "outputs": [
        {
          "output_type": "stream",
          "name": "stdout",
          "text": [
            "es mayor de edad\n"
          ]
        }
      ]
    },
    {
      "cell_type": "code",
      "source": [],
      "metadata": {
        "id": "SSY33Z_ZHgF9"
      },
      "execution_count": null,
      "outputs": []
    },
    {
      "cell_type": "markdown",
      "source": [
        "Estos son los pasos para realizar una función en Go\n",
        "* Se escribe la palabra reservada func\n",
        "*Después se escribe el nombre que le queramos dar a la función\n",
        "*Se colocan paréntesis y dentro de ellos se colocan los parámetros y alado de cada parámetro, el tipo de dato que será\n",
        "*Se escribe el tipo de dato que queremos retornar (en el caso de que queramos retornar algo)\n",
        "*Se abren unas llaves y se escribe adentro lo que queremos que se ejecute cuando se llame función"
      ],
      "metadata": {
        "id": "iYqfxnpOEJr7"
      }
    },
    {
      "cell_type": "code",
      "source": [
        "%%writefile funciones.go\n",
        "package main\n",
        "import \"fmt\"\n",
        "func main(){\n",
        "\n",
        "}\n",
        "func sumar(n1 int,n2 int)int{\n",
        "  return n1+n2\n",
        "}\n",
        "func restar(n1 int,n2 int)int{\n",
        "  return n1-n2\n",
        "}\n",
        "func multiplicar(n1 int,n2 int)int{\n",
        "  return n1*n2\n",
        "}\n",
        "func dividir(n1 int,n2 int)int{\n",
        "  return n1/n2\n",
        "}"
      ],
      "metadata": {
        "colab": {
          "base_uri": "https://localhost:8080/"
        },
        "id": "Ie5gZBCoB-7w",
        "outputId": "24404035-863e-4b52-f5d8-be4a7b5593aa"
      },
      "execution_count": 95,
      "outputs": [
        {
          "output_type": "stream",
          "name": "stdout",
          "text": [
            "Overwriting funciones.go\n"
          ]
        }
      ]
    },
    {
      "cell_type": "markdown",
      "source": [
        "Para llamar a una función se realiza el siguiente procedimiento:\n",
        "* Se escribe el nombre de la función.\n",
        "* Se colocan un par de paréntesis.\n",
        "* Dentro de los paréntesis se escriben los nombres de las variables que se usarán en la función.\n",
        "\n",
        "\n",
        "\n"
      ],
      "metadata": {
        "id": "Hv-Eokw6GliA"
      }
    },
    {
      "cell_type": "code",
      "source": [
        "%%writefile funciones.go\n",
        "package main\n",
        "import \"fmt\"\n",
        "func main(){\n",
        "  n1:=4\n",
        "  n2:=2\n",
        "  fmt.Println(\"suma\")\n",
        "  fmt.Println(sumar(n1,n2))\n",
        "  fmt.Println(\"resta\")\n",
        "  fmt.Println(restar(n1,n2))\n",
        "  fmt.Println(\"multiplicion\")\n",
        "  fmt.Println(multiplicar(n1,n2))\n",
        "  fmt.Println(\"dividicion\")\n",
        "  fmt.Println(dividir(n1,n2))\n",
        "}\n",
        "func sumar(n1 int,n2 int)int{\n",
        "  return n1+n2\n",
        "}\n",
        "func restar(n1 int,n2 int)int{\n",
        "  return n1-n2\n",
        "}\n",
        "func multiplicar(n1 int,n2 int)int{\n",
        "  return n1*n2\n",
        "}\n",
        "func dividir(n1 int,n2 int)int{\n",
        "  return n1/n2\n",
        "}"
      ],
      "metadata": {
        "colab": {
          "base_uri": "https://localhost:8080/"
        },
        "id": "knAmZiwkGM-m",
        "outputId": "7da26d7c-81b7-465a-846f-9eda5543d434"
      },
      "execution_count": 96,
      "outputs": [
        {
          "output_type": "stream",
          "name": "stdout",
          "text": [
            "Overwriting funciones.go\n"
          ]
        }
      ]
    },
    {
      "cell_type": "code",
      "source": [
        "!go run funciones.go"
      ],
      "metadata": {
        "colab": {
          "base_uri": "https://localhost:8080/"
        },
        "id": "_dBPp2uqDcVz",
        "outputId": "b46b28be-636d-4e69-9745-655d0141a577"
      },
      "execution_count": 97,
      "outputs": [
        {
          "output_type": "stream",
          "name": "stdout",
          "text": [
            "suma\n",
            "6\n",
            "resta\n",
            "2\n",
            "multiplicion\n",
            "8\n",
            "dividicion\n",
            "2\n"
          ]
        }
      ]
    }
  ]
}